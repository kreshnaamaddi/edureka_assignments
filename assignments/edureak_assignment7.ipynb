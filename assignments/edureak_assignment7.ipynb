{
 "cells": [
  {
   "cell_type": "code",
   "execution_count": null,
   "id": "12fe465f-8cf2-4433-a469-5e4ef3a4a23e",
   "metadata": {},
   "outputs": [],
   "source": [
    "# locations/views.py\n",
    "from rest_framework.decorators import api_view\n",
    "from rest_framework.response import Response\n",
    "from .models import Location\n",
    "from .serializers import LocationSerializer\n",
    "\n",
    "@api_view(['GET'])\n",
    "def get_all_locations(request):\n",
    "    locations = Location.objects.all()\n",
    "    serializer = LocationSerializer(locations, many=True)\n",
    "    return Response(serializer.data)\n"
   ]
  }
 ],
 "metadata": {
  "kernelspec": {
   "display_name": "Python 3 (ipykernel)",
   "language": "python",
   "name": "python3"
  },
  "language_info": {
   "codemirror_mode": {
    "name": "ipython",
    "version": 3
   },
   "file_extension": ".py",
   "mimetype": "text/x-python",
   "name": "python",
   "nbconvert_exporter": "python",
   "pygments_lexer": "ipython3",
   "version": "3.12.4"
  }
 },
 "nbformat": 4,
 "nbformat_minor": 5
}
