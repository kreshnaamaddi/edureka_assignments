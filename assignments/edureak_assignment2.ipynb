{
 "cells": [
  {
   "cell_type": "code",
   "execution_count": 3,
   "id": "715eff78-e632-4db4-93c5-4cd554ff9e7d",
   "metadata": {},
   "outputs": [
    {
     "name": "stdin",
     "output_type": "stream",
     "text": [
      "Enter password:  Kresh@19\n"
     ]
    },
    {
     "name": "stdout",
     "output_type": "stream",
     "text": [
      "Valid password\n"
     ]
    }
   ],
   "source": [
    "def is_valid(password):\n",
    "    if len(password) < 5 or len(password) > 10:\n",
    "        return False\n",
    "    has_alpha = any(c.isalpha() for c in password)\n",
    "    has_digit = any(c.isdigit() for c in password)\n",
    "    has_special = any(c in '@&' for c in password)\n",
    "    return has_alpha and has_digit and has_special\n",
    "\n",
    "# Example usage\n",
    "pwd = input(\"Enter password: \")\n",
    "if is_valid(pwd):\n",
    "    print(\"Valid password\")\n",
    "else:\n",
    "    print(\"Invalid password\")\n"
   ]
  },
  {
   "cell_type": "code",
   "execution_count": 5,
   "id": "e25bd26b-a063-411e-aeda-5ee221aaf80a",
   "metadata": {},
   "outputs": [
    {
     "name": "stdin",
     "output_type": "stream",
     "text": [
      "Enter elements separated by spaces:  Kreshnaa Kreshnaa1 Kreshnaa2\n"
     ]
    },
    {
     "name": "stdout",
     "output_type": "stream",
     "text": [
      "Index 0: Kreshnaa\n",
      "Index 1: Kreshnaa1\n",
      "Index 2: Kreshnaa2\n"
     ]
    }
   ],
   "source": [
    "# Take input from user and convert it to a list\n",
    "user_input = input(\"Enter elements separated by spaces: \")\n",
    "my_list = user_input.split()\n",
    "\n",
    "# Print elements with their indexes\n",
    "for index, value in enumerate(my_list):\n",
    "    print(f\"Index {index}: {value}\")\n"
   ]
  },
  {
   "cell_type": "code",
   "execution_count": 7,
   "id": "a24627ea-4a8d-4b5a-9749-87b55a900973",
   "metadata": {},
   "outputs": [
    {
     "name": "stdin",
     "output_type": "stream",
     "text": [
      "Enter a string:  Ed12ur3ka1Python12\n"
     ]
    },
    {
     "name": "stdout",
     "output_type": "stream",
     "text": [
      "EuaPto\n"
     ]
    }
   ],
   "source": [
    "# Accept input from the user\n",
    "s = input(\"Enter a string: \")\n",
    "\n",
    "# Initialize result string\n",
    "result = \"\"\n",
    "\n",
    "# Loop through characters with their indexes\n",
    "for i in range(len(s)):\n",
    "    if i % 2 == 0 and s[i].isalpha():\n",
    "        result += s[i]\n",
    "\n",
    "# Print the result\n",
    "print(result)\n"
   ]
  },
  {
   "cell_type": "code",
   "execution_count": 9,
   "id": "b43be672-4e4a-4df6-9751-5fac252da814",
   "metadata": {},
   "outputs": [
    {
     "name": "stdin",
     "output_type": "stream",
     "text": [
      "Enter a string:  welcome to edureka\n"
     ]
    },
    {
     "name": "stdout",
     "output_type": "stream",
     "text": [
      "akerude ot emoclew\n"
     ]
    }
   ],
   "source": [
    "# Accept input from the user\n",
    "s = input(\"Enter a string: \")\n",
    "\n",
    "# Print the reversed string\n",
    "print(s[::-1])\n"
   ]
  },
  {
   "cell_type": "code",
   "execution_count": 11,
   "id": "5db5a8bd-7f66-43d3-8dac-a9c8887613fd",
   "metadata": {},
   "outputs": [
    {
     "name": "stdin",
     "output_type": "stream",
     "text": [
      "Enter a string:  abcdefgabc\n"
     ]
    },
    {
     "name": "stdout",
     "output_type": "stream",
     "text": [
      "a,2\n",
      "b,2\n",
      "c,2\n",
      "d,1\n",
      "e,1\n",
      "f,1\n",
      "g,1\n"
     ]
    }
   ],
   "source": [
    "# Take input from the user\n",
    "s = input(\"Enter a string: \")\n",
    "\n",
    "# Create a dictionary to store counts\n",
    "char_count = {}\n",
    "\n",
    "# Count each character\n",
    "for char in s:\n",
    "    char_count[char] = char_count.get(char, 0) + 1\n",
    "\n",
    "# Print each character and its count\n",
    "for char, count in char_count.items():\n",
    "    print(f\"{char},{count}\")\n"
   ]
  },
  {
   "cell_type": "code",
   "execution_count": 13,
   "id": "4d566193-0796-4e8d-80d6-70159b4bb110",
   "metadata": {},
   "outputs": [
    {
     "name": "stdout",
     "output_type": "stream",
     "text": [
      "Intersection: [10, 13, 5]\n"
     ]
    }
   ],
   "source": [
    "list1 = [1, 5, 10, 12, 34, 13]\n",
    "list2 = [4, 7, 8, 10, 5, 13, 24]\n",
    "\n",
    "# Use set intersection to find common elements\n",
    "intersection = list(set(list1) & set(list2))\n",
    "\n",
    "print(\"Intersection:\", intersection)\n"
   ]
  },
  {
   "cell_type": "code",
   "execution_count": 17,
   "id": "980ee6d0-c2f8-4ec5-8a0d-80ac36d6a447",
   "metadata": {},
   "outputs": [
    {
     "name": "stdout",
     "output_type": "stream",
     "text": [
      "After removing values divisible by 6: [35, 88, 155]\n"
     ]
    }
   ],
   "source": [
    "numbers = [12, 24, 35, 24, 88, 120, 155]\n",
    "\n",
    "# Remove numbers divisible by 6\n",
    "result = [x for x in numbers if x % 6 != 0]\n",
    "\n",
    "print(\"After removing values divisible by 6:\", result)\n"
   ]
  },
  {
   "cell_type": "code",
   "execution_count": 19,
   "id": "524c40a1-18ed-4325-a022-e1d347555540",
   "metadata": {},
   "outputs": [
    {
     "name": "stdout",
     "output_type": "stream",
     "text": [
      "List after removing 1st, 3rd, and 5th elements: [24, 70, 120, 155]\n"
     ]
    }
   ],
   "source": [
    "numbers = [12, 24, 35, 70, 88, 120, 155]\n",
    "\n",
    "# Remove elements at indexes 0, 2, and 4\n",
    "result = [num for idx, num in enumerate(numbers) if idx not in (0, 2, 4)]\n",
    "\n",
    "print(\"List after removing 1st, 3rd, and 5th elements:\", result)\n"
   ]
  },
  {
   "cell_type": "code",
   "execution_count": 21,
   "id": "ef3f7b09-4734-4d06-9dea-5cebcf8d7048",
   "metadata": {},
   "outputs": [
    {
     "name": "stdout",
     "output_type": "stream",
     "text": [
      "Random list of 6 numbers divisible by 5 and 7: [35, 175, 525, 1085, 665, 455]\n"
     ]
    }
   ],
   "source": [
    "import random\n",
    "\n",
    "# Numbers divisible by both 5 and 7 means divisible by 35\n",
    "candidates = [x for x in range(1, 1501) if x % 35 == 0]\n",
    "\n",
    "# Randomly pick 6 numbers from candidates\n",
    "random_numbers = random.sample(candidates, 6)\n",
    "\n",
    "print(\"Random list of 6 numbers divisible by 5 and 7:\", random_numbers)\n"
   ]
  },
  {
   "cell_type": "code",
   "execution_count": 23,
   "id": "40ec308b-cd1d-4c9e-a0d6-748c2fb3677d",
   "metadata": {},
   "outputs": [
    {
     "name": "stdin",
     "output_type": "stream",
     "text": [
      "Enter a positive integer n:  6\n"
     ]
    },
    {
     "name": "stdout",
     "output_type": "stream",
     "text": [
      "4.41\n"
     ]
    }
   ],
   "source": [
    "# Take input n from user\n",
    "n = int(input(\"Enter a positive integer n: \"))\n",
    "\n",
    "# Initialize sum\n",
    "total = 0\n",
    "\n",
    "# Calculate the sum\n",
    "for i in range(1, n + 1):\n",
    "    total += i / (i + 1)\n",
    "\n",
    "# Print result rounded to 2 decimal places\n",
    "print(f\"{total:.2f}\")\n"
   ]
  },
  {
   "cell_type": "code",
   "execution_count": null,
   "id": "36d2224e-d00d-4af1-ad82-ac5a7e9352e2",
   "metadata": {},
   "outputs": [],
   "source": []
  }
 ],
 "metadata": {
  "kernelspec": {
   "display_name": "Python 3 (ipykernel)",
   "language": "python",
   "name": "python3"
  },
  "language_info": {
   "codemirror_mode": {
    "name": "ipython",
    "version": 3
   },
   "file_extension": ".py",
   "mimetype": "text/x-python",
   "name": "python",
   "nbconvert_exporter": "python",
   "pygments_lexer": "ipython3",
   "version": "3.12.4"
  }
 },
 "nbformat": 4,
 "nbformat_minor": 5
}
