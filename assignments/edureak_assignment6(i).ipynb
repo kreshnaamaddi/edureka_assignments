{
 "cells": [
  {
   "cell_type": "code",
   "execution_count": null,
   "id": "1c3358a8-7de6-43bf-a142-31045392fb4c",
   "metadata": {},
   "outputs": [],
   "source": [
    "import pandas as pd\n",
    "import numpy as np\n",
    "\n",
    "# Load the CSV file\n",
    "df = pd.read_csv('SalaryGender.csv')\n",
    "\n",
    "# Extract each column into a separate NumPy array\n",
    "salary = df['Salary'].to_numpy()\n",
    "gender = df['Gender'].to_numpy()\n",
    "age = df['Age'].to_numpy()\n",
    "phd = df['PhD'].to_numpy()\n"
   ]
  },
  {
   "cell_type": "code",
   "execution_count": null,
   "id": "1401225a-9278-48da-87f5-c99b1223fcae",
   "metadata": {},
   "outputs": [],
   "source": [
    "num_men_phd = df[(df['Gender'] == 'Male') & (df['PhD'] == 1)].shape[0]\n",
    "num_women_phd = df[(df['Gender'] == 'Female') & (df['PhD'] == 1)].shape[0]\n"
   ]
  },
  {
   "cell_type": "code",
   "execution_count": null,
   "id": "ab664d2d-6749-4bd8-9f3a-5c9ec95bda9d",
   "metadata": {},
   "outputs": [],
   "source": [
    "# New DataFrame with Age and PhD\n",
    "age_phd_df = df[['Age', 'PhD']]\n",
    "\n",
    "# Remove rows where PhD != 1 from the original DataFrame\n",
    "df_phd_only = df[df['PhD'] == 1]\n"
   ]
  },
  {
   "cell_type": "code",
   "execution_count": null,
   "id": "ff74a2bf-ea8a-4632-ba28-1b8317981d5c",
   "metadata": {},
   "outputs": [],
   "source": [
    "total_phd = df[df['PhD'] == 1].shape[0]\n"
   ]
  },
  {
   "cell_type": "code",
   "execution_count": 3,
   "id": "b252e7a5-168f-4b8d-8f91-fb4e1ff964a7",
   "metadata": {},
   "outputs": [
    {
     "name": "stdout",
     "output_type": "stream",
     "text": [
      "[4 2 1 1 3 2 0 0 0 1]\n"
     ]
    }
   ],
   "source": [
    "arr = np.array([0, 5, 4, 0, 4, 4, 3, 0, 0, 5, 2, 1, 1, 9])\n",
    "frequency = np.bincount(arr)\n",
    "print(frequency)\n",
    "# Output: array([4, 2, 1, 1, 3, 2, 0, 0, 0, 1])\n"
   ]
  },
  {
   "cell_type": "code",
   "execution_count": 5,
   "id": "620d64e3-0bf1-43c0-9bed-e20b7e0d4391",
   "metadata": {},
   "outputs": [
    {
     "name": "stdout",
     "output_type": "stream",
     "text": [
      "[ 6  7  8  9 10 11]\n"
     ]
    }
   ],
   "source": [
    "import numpy as np\n",
    "\n",
    "arr = np.array([[0, 1, 2], [3, 4, 5], [6, 7, 8], [9, 10, 11]])\n",
    "filtered = arr[arr > 5]\n",
    "print(filtered)  # Output: [ 6  7  8  9 10 11]\n"
   ]
  },
  {
   "cell_type": "code",
   "execution_count": 7,
   "id": "b3c05dfd-3a3f-4f23-8d80-df72a35df2fe",
   "metadata": {},
   "outputs": [
    {
     "name": "stdout",
     "output_type": "stream",
     "text": [
      "[1. 2. 3. 4. 5.]\n"
     ]
    }
   ],
   "source": [
    "arr_with_nan = np.array([np.nan, 1., 2., np.nan, 3., 4., 5.])\n",
    "clean_arr = arr_with_nan[~np.isnan(arr_with_nan)]\n",
    "print(clean_arr)  # Output: [1. 2. 3. 4. 5.]\n"
   ]
  },
  {
   "cell_type": "code",
   "execution_count": 9,
   "id": "ed972484-7fb2-43fa-b804-7a5fa0fc030e",
   "metadata": {},
   "outputs": [
    {
     "name": "stdout",
     "output_type": "stream",
     "text": [
      "Min: 0.005108102100911283, Max: 0.987428770963482\n"
     ]
    }
   ],
   "source": [
    "random_array = np.random.rand(10, 10)\n",
    "min_val = np.min(random_array)\n",
    "max_val = np.max(random_array)\n",
    "print(f\"Min: {min_val}, Max: {max_val}\")\n"
   ]
  },
  {
   "cell_type": "code",
   "execution_count": 11,
   "id": "5312b9e5-9995-4963-9287-3a0039eed1f9",
   "metadata": {},
   "outputs": [
    {
     "name": "stdout",
     "output_type": "stream",
     "text": [
      "Mean: 0.4718389661973078\n"
     ]
    }
   ],
   "source": [
    "random_vector = np.random.rand(30)\n",
    "mean_val = np.mean(random_vector)\n",
    "print(f\"Mean: {mean_val}\")\n"
   ]
  },
  {
   "cell_type": "code",
   "execution_count": 13,
   "id": "366125e2-84e9-46c3-b4ce-c449445c41a6",
   "metadata": {},
   "outputs": [
    {
     "name": "stdout",
     "output_type": "stream",
     "text": [
      "[ 0  1  2 -3 -4 -5 -6 -7 -8 -9 10]\n"
     ]
    }
   ],
   "source": [
    "arr = np.arange(11)\n",
    "arr[(arr >= 3) & (arr <= 9)] *= -1\n",
    "print(arr)\n",
    "# Output: [ 0  1  2 -3 -4 -5 -6 -7 -8 -9 10]\n"
   ]
  },
  {
   "cell_type": "code",
   "execution_count": 15,
   "id": "0fd03489-edcc-4c82-a0d3-88ad9f5d4041",
   "metadata": {},
   "outputs": [
    {
     "name": "stdout",
     "output_type": "stream",
     "text": [
      "Original array:\n",
      " [[73 41 89]\n",
      " [59  2 19]\n",
      " [82 24 70]]\n",
      "\n",
      "Sorted by first column:\n",
      " [[59  2 19]\n",
      " [73 41 89]\n",
      " [82 24 70]]\n",
      "\n",
      "Sorted by second column:\n",
      " [[59  2 19]\n",
      " [82 24 70]\n",
      " [73 41 89]]\n",
      "\n",
      "Sorted by third column:\n",
      " [[59  2 19]\n",
      " [82 24 70]\n",
      " [73 41 89]]\n"
     ]
    }
   ],
   "source": [
    "arr = np.random.randint(1, 100, (3, 3))\n",
    "print(\"Original array:\\n\", arr)\n",
    "\n",
    "# Sort by the first column (index 0)\n",
    "sorted_by_first = arr[arr[:, 0].argsort()]\n",
    "print(\"\\nSorted by first column:\\n\", sorted_by_first)\n",
    "\n",
    "# Sort by the second column (index 1)\n",
    "sorted_by_second = arr[arr[:, 1].argsort()]\n",
    "print(\"\\nSorted by second column:\\n\", sorted_by_second)\n",
    "\n",
    "# Sort by the third column (index 2)\n",
    "sorted_by_third = arr[arr[:, 2].argsort()]\n",
    "print(\"\\nSorted by third column:\\n\", sorted_by_third)\n"
   ]
  },
  {
   "cell_type": "code",
   "execution_count": 17,
   "id": "c302aad6-3bd4-4891-9e18-f52c6c20364e",
   "metadata": {},
   "outputs": [
    {
     "name": "stdout",
     "output_type": "stream",
     "text": [
      "Shape after summing last two axes: (2, 3)\n",
      "[[ 9.67479914 10.12051185  9.11994235]\n",
      " [ 9.04170813  9.46672236  8.97017894]]\n"
     ]
    }
   ],
   "source": [
    "arr4d = np.random.rand(2, 3, 4, 5)  # Shape: (2, 3, 4, 5)\n",
    "\n",
    "# Sum over the last two axes (axis 2 and 3)\n",
    "sum_last_two = arr4d.sum(axis=(2, 3))\n",
    "print(\"Shape after summing last two axes:\", sum_last_two.shape)\n",
    "print(sum_last_two)\n"
   ]
  },
  {
   "cell_type": "code",
   "execution_count": 19,
   "id": "ca4dcdd5-2fed-4268-8eb2-9c2d2f6bfbbf",
   "metadata": {},
   "outputs": [
    {
     "name": "stdout",
     "output_type": "stream",
     "text": [
      "Original array:\n",
      " [[94 15 19 77]\n",
      " [36 83 37 97]\n",
      " [68 60 45 85]\n",
      " [18 88 68 11]]\n",
      "\n",
      "Array after swapping row 0 and row 2:\n",
      " [[68 60 45 85]\n",
      " [36 83 37 97]\n",
      " [94 15 19 77]\n",
      " [18 88 68 11]]\n"
     ]
    }
   ],
   "source": [
    "import numpy as np\n",
    "\n",
    "# Create a 4x4 random array\n",
    "arr = np.random.randint(1, 100, size=(4, 4))\n",
    "print(\"Original array:\\n\", arr)\n",
    "\n",
    "# Swap row 0 and row 2\n",
    "arr[[0, 2]] = arr[[2, 0]]\n",
    "print(\"\\nArray after swapping row 0 and row 2:\\n\", arr)\n"
   ]
  },
  {
   "cell_type": "code",
   "execution_count": 21,
   "id": "9863878d-5fd5-492c-b7d0-5a3397ad82e0",
   "metadata": {},
   "outputs": [
    {
     "name": "stdout",
     "output_type": "stream",
     "text": [
      "Original array:\n",
      " [[79 65 27 15]\n",
      " [49 24 84 87]\n",
      " [97 77 52 62]\n",
      " [51 61 46 70]]\n",
      "\n",
      "Array after swapping row 0 and row 2:\n",
      " [[97 77 52 62]\n",
      " [49 24 84 87]\n",
      " [79 65 27 15]\n",
      " [51 61 46 70]]\n"
     ]
    }
   ],
   "source": [
    "import numpy as np\n",
    "\n",
    "# Create a 4x4 random array\n",
    "arr = np.random.randint(1, 100, size=(4, 4))\n",
    "print(\"Original array:\\n\", arr)\n",
    "\n",
    "# Swap row 0 and row 2\n",
    "arr[[0, 2]] = arr[[2, 0]]\n",
    "print(\"\\nArray after swapping row 0 and row 2:\\n\", arr)\n"
   ]
  },
  {
   "cell_type": "code",
   "execution_count": null,
   "id": "c37168f8-f5d6-4672-8083-c511dee01735",
   "metadata": {},
   "outputs": [],
   "source": []
  }
 ],
 "metadata": {
  "kernelspec": {
   "display_name": "Python 3 (ipykernel)",
   "language": "python",
   "name": "python3"
  },
  "language_info": {
   "codemirror_mode": {
    "name": "ipython",
    "version": 3
   },
   "file_extension": ".py",
   "mimetype": "text/x-python",
   "name": "python",
   "nbconvert_exporter": "python",
   "pygments_lexer": "ipython3",
   "version": "3.12.4"
  }
 },
 "nbformat": 4,
 "nbformat_minor": 5
}
