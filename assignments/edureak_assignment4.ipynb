{
 "cells": [
  {
   "cell_type": "code",
   "execution_count": 1,
   "id": "7d21a013-502f-4b3b-ab2e-0f3a6deee225",
   "metadata": {},
   "outputs": [
    {
     "name": "stdout",
     "output_type": "stream",
     "text": [
      "2\n"
     ]
    }
   ],
   "source": [
    "import math\n",
    "\n",
    "position = [0, 0]\n",
    "\n",
    "moves = [\n",
    "    (\"UP\", 5),\n",
    "    (\"DOWN\", 3),\n",
    "    (\"LEFT\", 3),\n",
    "    (\"RIGHT\", 2)\n",
    "]\n",
    "\n",
    "for direction, value in moves:\n",
    "    if direction == \"UP\":\n",
    "        position[1] += value\n",
    "    elif direction == \"DOWN\":\n",
    "        position[1] -= value\n",
    "    elif direction == \"LEFT\":\n",
    "        position[0] -= value\n",
    "    elif direction == \"RIGHT\":\n",
    "        position[0] += value\n",
    "\n",
    "distance = math.sqrt(position[0]**2 + position[1]**2)\n",
    "print(int(distance))\n"
   ]
  },
  {
   "cell_type": "code",
   "execution_count": 3,
   "id": "3eef2fea-1c5e-4b10-83cc-a87a22f9b33a",
   "metadata": {},
   "outputs": [
    {
     "name": "stdin",
     "output_type": "stream",
     "text": [
      "Enter the item to search:  40\n"
     ]
    },
    {
     "name": "stdout",
     "output_type": "stream",
     "text": [
      "40 found at index 3\n"
     ]
    }
   ],
   "source": [
    "data_list = [10, 20, 30, 40, 50, 60, 70]\n",
    "search_item = int(input(\"Enter the item to search: \"))\n",
    "\n",
    "if search_item in data_list:\n",
    "    print(f\"{search_item} found at index {data_list.index(search_item)}\")\n",
    "else:\n",
    "    print(f\"{search_item} not found in the list.\")\n"
   ]
  },
  {
   "cell_type": "code",
   "execution_count": 5,
   "id": "88684a03-9401-4576-a426-ccc3ed3a6463",
   "metadata": {},
   "outputs": [
    {
     "name": "stdout",
     "output_type": "stream",
     "text": [
      "It's day outside.\n"
     ]
    }
   ],
   "source": [
    "import time\n",
    "\n",
    "current_hour = time.localtime().tm_hour\n",
    "\n",
    "if 6 <= current_hour < 18:\n",
    "    print(\"It's day outside.\")\n",
    "else:\n",
    "    print(\"It's dark outside.\")\n"
   ]
  },
  {
   "cell_type": "code",
   "execution_count": 7,
   "id": "4c385a01-07e8-4a52-a911-012f495d0939",
   "metadata": {},
   "outputs": [
    {
     "name": "stdout",
     "output_type": "stream",
     "text": [
      "Distance: 1750.11 km\n"
     ]
    }
   ],
   "source": [
    "import math\n",
    "\n",
    "def distance(lat1, lon1, lat2, lon2):\n",
    "    # Convert degrees to radians\n",
    "    lat1 = math.radians(lat1)\n",
    "    lon1 = math.radians(lon1)\n",
    "    lat2 = math.radians(lat2)\n",
    "    lon2 = math.radians(lon2)\n",
    "\n",
    "    # Haversine formula\n",
    "    dlat = lat2 - lat1\n",
    "    dlon = lon2 - lon1\n",
    "    a = math.sin(dlat / 2)**2 + math.cos(lat1) * math.cos(lat2) * math.sin(dlon / 2)**2\n",
    "    c = 2 * math.asin(math.sqrt(a))\n",
    "    r = 6371  # Radius of Earth in kilometers\n",
    "    return c * r\n",
    "\n",
    "# Example coordinates\n",
    "lat1, lon1 = 12.9716, 77.5946  # Bangalore\n",
    "lat2, lon2 = 28.7041, 77.1025  # Delhi\n",
    "\n",
    "print(f\"Distance: {distance(lat1, lon1, lat2, lon2):.2f} km\")\n"
   ]
  },
  {
   "cell_type": "code",
   "execution_count": 9,
   "id": "84a7e007-b2ac-4728-80d3-cfe5442a08f6",
   "metadata": {},
   "outputs": [
    {
     "name": "stdout",
     "output_type": "stream",
     "text": [
      "\n",
      "1. Withdraw\n",
      "2. Credit\n",
      "3. Change Password\n",
      "4. Exit\n"
     ]
    },
    {
     "name": "stdin",
     "output_type": "stream",
     "text": [
      "Enter your choice:  2\n",
      "Enter amount to credit:  83000\n"
     ]
    },
    {
     "name": "stdout",
     "output_type": "stream",
     "text": [
      "Credited: 83000.0\n",
      "\n",
      "1. Withdraw\n",
      "2. Credit\n",
      "3. Change Password\n",
      "4. Exit\n"
     ]
    },
    {
     "name": "stdin",
     "output_type": "stream",
     "text": [
      "Enter your choice:  4\n"
     ]
    }
   ],
   "source": [
    "def withdraw(balance, amount):\n",
    "    if amount > balance:\n",
    "        return balance, \"Insufficient balance\"\n",
    "    return balance - amount, f\"Withdrawn: {amount}\"\n",
    "\n",
    "def credit(balance, amount):\n",
    "    return balance + amount, f\"Credited: {amount}\"\n",
    "\n",
    "def change_password(old_password):\n",
    "    new_pass = input(\"Enter new password: \")\n",
    "    confirm_pass = input(\"Confirm new password: \")\n",
    "    if new_pass == confirm_pass:\n",
    "        return new_pass, \"Password changed successfully\"\n",
    "    else:\n",
    "        return old_password, \"Passwords do not match\"\n",
    "\n",
    "# Initial setup\n",
    "balance = 1000\n",
    "password = \"admin123\"\n",
    "\n",
    "while True:\n",
    "    print(\"\\n1. Withdraw\\n2. Credit\\n3. Change Password\\n4. Exit\")\n",
    "    choice = input(\"Enter your choice: \")\n",
    "\n",
    "    if choice == \"1\":\n",
    "        amt = float(input(\"Enter amount to withdraw: \"))\n",
    "        balance, msg = withdraw(balance, amt)\n",
    "        print(msg)\n",
    "    elif choice == \"2\":\n",
    "        amt = float(input(\"Enter amount to credit: \"))\n",
    "        balance, msg = credit(balance, amt)\n",
    "        print(msg)\n",
    "    elif choice == \"3\":\n",
    "        password, msg = change_password(password)\n",
    "        print(msg)\n",
    "    elif choice == \"4\":\n",
    "        break\n",
    "    else:\n",
    "        print(\"Invalid choice.\")\n"
   ]
  },
  {
   "cell_type": "code",
   "execution_count": 11,
   "id": "3dad997e-29cd-4b62-b3b2-2b38578600d5",
   "metadata": {},
   "outputs": [
    {
     "name": "stdout",
     "output_type": "stream",
     "text": [
      "2002,2009,2016,2023,2037,2044,2051,2058,2072,2079,2086,2093,2107,2114,2121,2128,2142,2149,2156,2163,2177,2184,2191,2198,2212,2219,2226,2233,2247,2254,2261,2268,2282,2289,2296,2303,2317,2324,2331,2338,2352,2359,2366,2373,2387,2394,2401,2408,2422,2429,2436,2443,2457,2464,2471,2478,2492,2499,2506,2513,2527,2534,2541,2548,2562,2569,2576,2583,2597,2604,2611,2618,2632,2639,2646,2653,2667,2674,2681,2688,2702,2709,2716,2723,2737,2744,2751,2758,2772,2779,2786,2793,2807,2814,2821,2828,2842,2849,2856,2863,2877,2884,2891,2898,2912,2919,2926,2933,2947,2954,2961,2968,2982,2989,2996,3003,3017,3024,3031,3038,3052,3059,3066,3073,3087,3094,3101,3108,3122,3129,3136,3143,3157,3164,3171,3178,3192,3199\n"
     ]
    }
   ],
   "source": [
    "result = []\n",
    "\n",
    "for i in range(2000, 3201):\n",
    "    if i % 7 == 0 and i % 5 != 0:\n",
    "        result.append(str(i))\n",
    "\n",
    "print(\",\".join(result))\n"
   ]
  },
  {
   "cell_type": "code",
   "execution_count": 15,
   "id": "5e43edef-bfad-41c9-a0ff-c0c32214c7b1",
   "metadata": {},
   "outputs": [
    {
     "name": "stdin",
     "output_type": "stream",
     "text": [
      "Enter a number:  6\n"
     ]
    },
    {
     "name": "stdout",
     "output_type": "stream",
     "text": [
      "Factorial of 6 is 720\n"
     ]
    }
   ],
   "source": [
    "def factorial(n):\n",
    "    if n == 0:\n",
    "        return 1\n",
    "    else:\n",
    "        return n * factorial(n - 1)\n",
    "\n",
    "num = int(input(\"Enter a number: \"))\n",
    "print(f\"Factorial of {num} is {factorial(num)}\")\n"
   ]
  },
  {
   "cell_type": "code",
   "execution_count": null,
   "id": "f7a06204-9afb-474f-87ce-7f88bb3f0b24",
   "metadata": {},
   "outputs": [],
   "source": [
    "import math\n",
    "\n",
    "C = 50\n",
    "H = 30\n",
    "\n",
    "values = input(\"Enter comma-separated D values: \").split(',')\n",
    "result = []\n",
    "\n",
    "for D in values:\n",
    "    Q = math.sqrt((2 * C * int(D)) / H)\n",
    "    result.append(str(round(Q)))\n",
    "\n",
    "print(\",\".join(result))\n"
   ]
  },
  {
   "cell_type": "code",
   "execution_count": null,
   "id": "3b677db5-d71a-4bda-a964-5c8cbad8383c",
   "metadata": {},
   "outputs": [],
   "source": []
  }
 ],
 "metadata": {
  "kernelspec": {
   "display_name": "Python 3 (ipykernel)",
   "language": "python",
   "name": "python3"
  },
  "language_info": {
   "codemirror_mode": {
    "name": "ipython",
    "version": 3
   },
   "file_extension": ".py",
   "mimetype": "text/x-python",
   "name": "python",
   "nbconvert_exporter": "python",
   "pygments_lexer": "ipython3",
   "version": "3.12.4"
  }
 },
 "nbformat": 4,
 "nbformat_minor": 5
}
