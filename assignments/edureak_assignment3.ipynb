{
 "cells": [
  {
   "cell_type": "code",
   "execution_count": 1,
   "id": "e80556d8-b9e4-4d04-8e1d-b56505d9bc20",
   "metadata": {},
   "outputs": [
    {
     "name": "stdout",
     "output_type": "stream",
     "text": [
      "Species: Dog\n",
      "Breed: Golden Retriever\n",
      "The Golden Retriever barks.\n"
     ]
    }
   ],
   "source": [
    "# Parent class\n",
    "class Animal:\n",
    "    def __init__(self, species):\n",
    "        self.species = species\n",
    "\n",
    "    def speak(self):\n",
    "        return f\"The {self.species} makes a sound.\"\n",
    "\n",
    "# Child class\n",
    "class Dog(Animal):\n",
    "    def __init__(self, breed):\n",
    "        super().__init__('Dog')\n",
    "        self.breed = breed\n",
    "\n",
    "    def speak(self):\n",
    "        return f\"The {self.breed} barks.\"\n",
    "\n",
    "# Create object\n",
    "my_dog = Dog(\"Golden Retriever\")\n",
    "print(f\"Species: {my_dog.species}\")\n",
    "print(f\"Breed: {my_dog.breed}\")\n",
    "print(my_dog.speak())\n"
   ]
  },
  {
   "cell_type": "code",
   "execution_count": 3,
   "id": "e523f5d4-6c06-4d77-b86e-c943aa02b300",
   "metadata": {},
   "outputs": [
    {
     "name": "stdout",
     "output_type": "stream",
     "text": [
      "Car - Color: Red, Wheels: 4\n",
      "Bike - Color: Black, Wheels: 2\n"
     ]
    }
   ],
   "source": [
    "class Vehicle:\n",
    "    def details(self):\n",
    "        pass\n",
    "\n",
    "class Car(Vehicle):\n",
    "    def details(self):\n",
    "        return \"Car - Color: Red, Wheels: 4\"\n",
    "\n",
    "class Bike(Vehicle):\n",
    "    def details(self):\n",
    "        return \"Bike - Color: Black, Wheels: 2\"\n",
    "\n",
    "# Polymorphic behavior\n",
    "vehicles = [Car(), Bike()]\n",
    "for v in vehicles:\n",
    "    print(v.details())\n"
   ]
  },
  {
   "cell_type": "code",
   "execution_count": 5,
   "id": "c69c30b8-13fe-4876-90e7-60d6b943516d",
   "metadata": {},
   "outputs": [
    {
     "name": "stdout",
     "output_type": "stream",
     "text": [
      "Original list:\n",
      "('Earth', 1)\n",
      "('Jupiter', 79)\n",
      "('Saturn', 82)\n",
      "('Uranus', 27)\n",
      "('Neptune', 14)\n",
      "\n",
      "Sorted list by number of moons (ascending):\n",
      "('Earth', 1)\n",
      "('Neptune', 14)\n",
      "('Uranus', 27)\n",
      "('Jupiter', 79)\n",
      "('Saturn', 82)\n"
     ]
    }
   ],
   "source": [
    "# Original list of tuples\n",
    "planets = [\n",
    "    (\"Earth\", 1),\n",
    "    (\"Jupiter\", 79),\n",
    "    (\"Saturn\", 82),\n",
    "    (\"Uranus\", 27),\n",
    "    (\"Neptune\", 14)\n",
    "]\n",
    "\n",
    "# Display original list\n",
    "print(\"Original list:\")\n",
    "for planet in planets:\n",
    "    print(planet)\n",
    "\n",
    "# Sort using lambda\n",
    "sorted_planets = sorted(planets, key=lambda x: x[1])\n",
    "\n",
    "# Display sorted list\n",
    "print(\"\\nSorted list by number of moons (ascending):\")\n",
    "for planet in sorted_planets:\n",
    "    print(planet)\n"
   ]
  },
  {
   "cell_type": "code",
   "execution_count": 7,
   "id": "5e184765-60e4-498e-ba27-debeb1a5bfe6",
   "metadata": {},
   "outputs": [],
   "source": [
    "# Global variable\n",
    "tank = 0\n",
    "\n",
    "def fillup(amount):\n",
    "    global tank\n",
    "    tank += amount\n",
    "    return tank\n",
    "\n",
    "def use(amount):\n",
    "    global tank\n",
    "    tank -= amount\n",
    "    return tank\n"
   ]
  },
  {
   "cell_type": "code",
   "execution_count": 9,
   "id": "7a419624-ac09-4669-ae44-8d7228bc5289",
   "metadata": {},
   "outputs": [
    {
     "name": "stdout",
     "output_type": "stream",
     "text": [
      "This is Class 1\n",
      "This is Class 3\n",
      "This is Class 2\n",
      "This is Class 4\n"
     ]
    }
   ],
   "source": [
    "class Class1:\n",
    "    def __init__(self):\n",
    "        print(\"This is Class 1\")\n",
    "\n",
    "class Class2(Class1):\n",
    "    def __init__(self):\n",
    "        super().__init__()\n",
    "        print(\"This is Class 2\")\n",
    "\n",
    "class Class3(Class1):\n",
    "    def __init__(self):\n",
    "        super().__init__()\n",
    "        print(\"This is Class 3\")\n",
    "\n",
    "class Class4(Class2, Class3):\n",
    "    def __init__(self):\n",
    "        super().__init__()  # Will follow MRO (Method Resolution Order)\n",
    "        print(\"This is Class 4\")\n",
    "\n",
    "# Create object to show the flow\n",
    "obj = Class4()\n"
   ]
  },
  {
   "cell_type": "code",
   "execution_count": null,
   "id": "fee44363-af63-4cb6-8fb2-d24ecd7ddc38",
   "metadata": {},
   "outputs": [],
   "source": [
    "class Person:\n",
    "    def __init__(self):\n",
    "        self._name = None\n",
    "        self._age = None\n",
    "\n",
    "    def set_name(self, name):\n",
    "        self._name = name\n",
    "\n",
    "    def get_name(self):\n",
    "        return self._name\n",
    "\n",
    "    def set_age(self, age):\n",
    "        self._age = age\n",
    "\n",
    "    def get_age(self):\n",
    "        return self._age\n",
    "\n",
    "# Example usage\n",
    "p = Person()\n",
    "p.set_name(\"John\")\n",
    "p.set_age(30)\n",
    "name = p.get_name()\n",
    "age = p.get_age()\n"
   ]
  }
 ],
 "metadata": {
  "kernelspec": {
   "display_name": "Python 3 (ipykernel)",
   "language": "python",
   "name": "python3"
  },
  "language_info": {
   "codemirror_mode": {
    "name": "ipython",
    "version": 3
   },
   "file_extension": ".py",
   "mimetype": "text/x-python",
   "name": "python",
   "nbconvert_exporter": "python",
   "pygments_lexer": "ipython3",
   "version": "3.12.4"
  }
 },
 "nbformat": 4,
 "nbformat_minor": 5
}
