{
 "cells": [
  {
   "cell_type": "code",
   "execution_count": null,
   "id": "9316f52e-6e87-4214-b4f2-10075c8afbe5",
   "metadata": {},
   "outputs": [],
   "source": [
    "{\n",
    "  \"id\": 101,\n",
    "  \"date\": \"2025-06-10T10:00:00Z\",\n",
    "  \"title\": \"Understanding REST APIs in 10 Minutes\",\n",
    "  \"content\": \"This blog explains REST APIs with real-world examples and use cases.\",\n",
    "  \"author\": \"Kreshnaa Maddi\",\n",
    "  \"link\": \"https://example.com/blog/rest-apis\",\n",
    "  \"comments\": [\n",
    "    \"Great article!\",\n",
    "    \"Very helpful, thanks!\",\n",
    "    \"Can you explain OAuth in another post?\"\n",
    "  ]\n",
    "}\n"
   ]
  },
  {
   "cell_type": "code",
   "execution_count": null,
   "id": "00603275-a806-43b8-9d81-79755a0dba52",
   "metadata": {},
   "outputs": [],
   "source": [
    "<blog>\n",
    "  <id>101</id>\n",
    "  <date>2025-06-10T10:00:00Z</date>\n",
    "  <title>Understanding REST APIs in 10 Minutes</title>\n",
    "  <content>This blog explains REST APIs with real-world examples and use cases.</content>\n",
    "  <author>Kreshnaa Maddi</author>\n",
    "  <link>https://example.com/blog/rest-apis</link>\n",
    "  <comments>\n",
    "    <comment>Great article!</comment>\n",
    "    <comment>Very helpful, thanks!</comment>\n",
    "    <comment>Can you explain OAuth in another post?</comment>\n",
    "  </comments>\n",
    "</blog>\n"
   ]
  }
 ],
 "metadata": {
  "kernelspec": {
   "display_name": "Python 3 (ipykernel)",
   "language": "python",
   "name": "python3"
  },
  "language_info": {
   "codemirror_mode": {
    "name": "ipython",
    "version": 3
   },
   "file_extension": ".py",
   "mimetype": "text/x-python",
   "name": "python",
   "nbconvert_exporter": "python",
   "pygments_lexer": "ipython3",
   "version": "3.12.4"
  }
 },
 "nbformat": 4,
 "nbformat_minor": 5
}
