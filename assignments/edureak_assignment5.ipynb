{
 "cells": [
  {
   "cell_type": "code",
   "execution_count": 1,
   "id": "7572ec3a-5c2d-413c-a84c-9596091fbb4d",
   "metadata": {},
   "outputs": [
    {
     "name": "stdout",
     "output_type": "stream",
     "text": [
      "[[-2  2 -2]\n",
      " [ 4 -2  6]\n",
      " [-2  8 -2]]\n"
     ]
    }
   ],
   "source": [
    "import numpy as np\n",
    "\n",
    "lst = [[1, 2, 3], [4, 5, 6], [7, 8, 9]]\n",
    "arr = np.array(lst)\n",
    "arr[arr % 2 != 0] = -2\n",
    "print(arr)\n"
   ]
  },
  {
   "cell_type": "code",
   "execution_count": 3,
   "id": "4475807e-70c3-4d09-bcb7-882a3eb257fb",
   "metadata": {},
   "outputs": [
    {
     "name": "stdout",
     "output_type": "stream",
     "text": [
      "[ 8  9 10 12]\n"
     ]
    }
   ],
   "source": [
    "arr = np.array([1,2,3,4,5,8,9,10,12,22,32,54,99,6,7])\n",
    "print(arr[(arr >= 8) & (arr <= 15)])\n"
   ]
  },
  {
   "cell_type": "code",
   "execution_count": 5,
   "id": "1ed5e87a-4ba4-4f60-83d2-410dcd224ee9",
   "metadata": {},
   "outputs": [
    {
     "name": "stdout",
     "output_type": "stream",
     "text": [
      "[[2 1 3]\n",
      " [5 4 6]\n",
      " [8 7 9]]\n"
     ]
    }
   ],
   "source": [
    "arr = np.arange(1, 10).reshape(3, 3)\n",
    "arr[:, [0, 1]] = arr[:, [1, 0]]\n",
    "print(arr)\n"
   ]
  },
  {
   "cell_type": "code",
   "execution_count": 7,
   "id": "c86e372d-05fe-49b0-b0d7-4a45fa41c45c",
   "metadata": {},
   "outputs": [
    {
     "name": "stdout",
     "output_type": "stream",
     "text": [
      "[[1.3 2.5 3.6 6. ]\n",
      " [2.6 3.3 4.5 5.5]\n",
      " [2.1 3.2 5.4 6.5]]\n"
     ]
    }
   ],
   "source": [
    "arr = np.array([[1.3, 2.5, 3.6, np.nan],\n",
    "                [2.6, 3.3, np.nan, 5.5],\n",
    "                [2.1, 3.2, 5.4, 6.5]])\n",
    "\n",
    "# Calculate column-wise mean ignoring NaNs\n",
    "col_mean = np.nanmean(arr, axis=0)\n",
    "\n",
    "# Find indices where NaNs are present\n",
    "inds = np.where(np.isnan(arr))\n",
    "\n",
    "# Replace NaNs with the respective column means\n",
    "arr[inds] = np.take(col_mean, inds[1])\n",
    "\n",
    "print(arr)\n"
   ]
  },
  {
   "cell_type": "code",
   "execution_count": 9,
   "id": "92fb45d8-1dd6-41b2-b5bc-3ca615cbb57f",
   "metadata": {},
   "outputs": [
    {
     "name": "stdout",
     "output_type": "stream",
     "text": [
      "Matrix:\n",
      "[[2 4 6]\n",
      " [1 3 5]]\n",
      "Sorted Matrix:\n",
      "[[1 2 3]\n",
      " [4 5 6]]\n"
     ]
    }
   ],
   "source": [
    "arr = np.array([[2, 4, 6], [1, 3, 5]])\n",
    "\n",
    "# Convert to numpy matrix\n",
    "matrix = np.matrix(arr)\n",
    "\n",
    "# Sort the matrix values (row-wise sort)\n",
    "sorted_matrix = np.sort(matrix, axis=None).reshape(arr.shape)\n",
    "\n",
    "print(\"Matrix:\")\n",
    "print(matrix)\n",
    "print(\"Sorted Matrix:\")\n",
    "print(sorted_matrix)\n"
   ]
  },
  {
   "cell_type": "code",
   "execution_count": null,
   "id": "d0499f8a-753d-447c-b97c-05cfdd83d179",
   "metadata": {},
   "outputs": [],
   "source": []
  }
 ],
 "metadata": {
  "kernelspec": {
   "display_name": "Python 3 (ipykernel)",
   "language": "python",
   "name": "python3"
  },
  "language_info": {
   "codemirror_mode": {
    "name": "ipython",
    "version": 3
   },
   "file_extension": ".py",
   "mimetype": "text/x-python",
   "name": "python",
   "nbconvert_exporter": "python",
   "pygments_lexer": "ipython3",
   "version": "3.12.4"
  }
 },
 "nbformat": 4,
 "nbformat_minor": 5
}
