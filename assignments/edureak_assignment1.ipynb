{
 "cells": [
  {
   "cell_type": "code",
   "execution_count": 3,
   "id": "1adb3706-c841-4068-8dc2-f69b2d7a0ccf",
   "metadata": {},
   "outputs": [
    {
     "name": "stdin",
     "output_type": "stream",
     "text": [
      "Enter a number:  3\n"
     ]
    },
    {
     "name": "stdout",
     "output_type": "stream",
     "text": [
      "Factors of 3 are:\n",
      "1 - Odd\n",
      "3 - Odd\n"
     ]
    }
   ],
   "source": [
    "num = int(input(\"Enter a number: \"))\n",
    "print(\"Factors of\", num, \"are:\")\n",
    "for i in range(1, num + 1):\n",
    "    if num % i == 0:\n",
    "        if i % 2 == 0:\n",
    "            print(i, \"- Even\")\n",
    "        else:\n",
    "            print(i, \"- Odd\")\n"
   ]
  },
  {
   "cell_type": "code",
   "execution_count": 5,
   "id": "5d8cd141-c92f-4934-b4bb-940e4fdaca6a",
   "metadata": {},
   "outputs": [
    {
     "name": "stdin",
     "output_type": "stream",
     "text": [
      "Enter words separated by space:  kreshnaa krishna\n"
     ]
    },
    {
     "name": "stdout",
     "output_type": "stream",
     "text": [
      "Sorted words: kreshnaa krishna\n"
     ]
    }
   ],
   "source": [
    "words = input(\"Enter words separated by space: \")\n",
    "word_list = words.split()\n",
    "word_list.sort()\n",
    "print(\"Sorted words:\", ' '.join(word_list))\n"
   ]
  },
  {
   "cell_type": "code",
   "execution_count": 7,
   "id": "b28bea47-cd69-4df4-af9f-9ccc10f222eb",
   "metadata": {},
   "outputs": [
    {
     "name": "stdout",
     "output_type": "stream",
     "text": [
      "Total numbers with all odd digits: 125\n"
     ]
    }
   ],
   "source": [
    "count = 0\n",
    "for num in range(1001, 3000):\n",
    "    if all(int(digit) % 2 == 1 for digit in str(num)):\n",
    "        count += 1\n",
    "print(\"Total numbers with all odd digits:\", count)\n"
   ]
  },
  {
   "cell_type": "code",
   "execution_count": 9,
   "id": "6f7ade72-a110-4ca7-ad4b-a7f682c5ef91",
   "metadata": {},
   "outputs": [
    {
     "name": "stdin",
     "output_type": "stream",
     "text": [
      "Enter a string:  kreshnaa123\n"
     ]
    },
    {
     "name": "stdout",
     "output_type": "stream",
     "text": [
      "LETTERS: 8\n",
      "DIGITS: 3\n"
     ]
    }
   ],
   "source": [
    "text = input(\"Enter a string: \")\n",
    "letters = digits = 0\n",
    "for char in text:\n",
    "    if char.isalpha():\n",
    "        letters += 1\n",
    "    elif char.isdigit():\n",
    "        digits += 1\n",
    "print(\"LETTERS:\", letters)\n",
    "print(\"DIGITS:\", digits)\n"
   ]
  },
  {
   "cell_type": "code",
   "execution_count": 11,
   "id": "62f9ceac-7dde-4554-9fa5-8aef3fa51a38",
   "metadata": {},
   "outputs": [
    {
     "name": "stdin",
     "output_type": "stream",
     "text": [
      "Enter a number:  123\n"
     ]
    },
    {
     "name": "stdout",
     "output_type": "stream",
     "text": [
      "The number is NOT a Palindrome.\n"
     ]
    }
   ],
   "source": [
    "num = input(\"Enter a number: \")\n",
    "\n",
    "if num == num[::-1]:\n",
    "    print(\"The number is a Palindrome.\")\n",
    "else:\n",
    "    print(\"The number is NOT a Palindrome.\")\n"
   ]
  },
  {
   "cell_type": "code",
   "execution_count": null,
   "id": "f2087074-7553-49a2-9e29-a87c3eb2e16d",
   "metadata": {},
   "outputs": [],
   "source": []
  }
 ],
 "metadata": {
  "kernelspec": {
   "display_name": "Python 3 (ipykernel)",
   "language": "python",
   "name": "python3"
  },
  "language_info": {
   "codemirror_mode": {
    "name": "ipython",
    "version": 3
   },
   "file_extension": ".py",
   "mimetype": "text/x-python",
   "name": "python",
   "nbconvert_exporter": "python",
   "pygments_lexer": "ipython3",
   "version": "3.12.4"
  }
 },
 "nbformat": 4,
 "nbformat_minor": 5
}
